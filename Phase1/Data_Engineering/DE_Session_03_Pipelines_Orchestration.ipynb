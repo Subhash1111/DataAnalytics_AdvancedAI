{
 "cells": [
  {
   "cell_type": "markdown",
   "id": "2471aafa",
   "metadata": {},
   "source": [
    "# Session 3 — Building & Orchestrating Data Pipelines\n",
    "\n",
    "Design, schedule, and monitor robust batch/stream pipelines. Introduce NoSQL data types lightly for pipeline context."
   ]
  },
  {
   "cell_type": "markdown",
   "id": "5d16a3ef",
   "metadata": {},
   "source": [
    "\n",
    "## 🧭 1️⃣ Introduction to Data Pipelines\n",
    "\n",
    "A **data pipeline** is a sequence of tasks that **ingest**, **transform**, and **deliver** data from sources to targets (warehouse, lake, or BI tools).  \n",
    "In production, pipelines must be **automated, observable, and reliable**.\n",
    "\n",
    "**Why orchestration?**\n",
    "- Define **order** of tasks (dependencies)\n",
    "- Coordinate **retries**, **timeouts**, and **alerts**\n",
    "- Parameterize runs by date/partition\n",
    "- Centralize monitoring and lineage\n"
   ]
  },
  {
   "cell_type": "markdown",
   "id": "b34834e6",
   "metadata": {},
   "source": [
    "\n",
    "## 🧩 2️⃣ Pipeline Components\n",
    "\n",
    "| Layer | Examples | Purpose |\n",
    "|------|----------|---------|\n",
    "| Sources | OLTP DBs, APIs, Files | Raw business/operational data |\n",
    "| Storage | S3 / ADLS | Landing/staging/curated zones |\n",
    "| Compute | Databricks, Glue, EMR, Synapse Spark | Transform/clean/enrich |\n",
    "| Warehouse | Redshift, Synapse | Serve analytics (BI/SQL) |\n",
    "| Orchestration | Airflow, ADF, Step Functions | Schedule, dependencies, retries |\n",
    "| Monitoring | CloudWatch, Azure Monitor, Airflow UI | Run health, logs, metrics |\n"
   ]
  },
  {
   "cell_type": "markdown",
   "id": "c9403cf8",
   "metadata": {},
   "source": [
    "\n",
    "## 🔗 3️⃣ Workflow Orchestration (DAGs, Dependencies, Retries)\n",
    "\n",
    "**DAG (Directed Acyclic Graph)**: a graph of tasks with one-way dependencies (no cycles).  \n",
    "Key ideas:\n",
    "- **Idempotency**: rerun produces the same result (safe retries)\n",
    "- **Backfills**: re-run historical dates/partitions\n",
    "- **Parallelism**: independent tasks can run concurrently\n",
    "- **SLA/SLI/SLO**: expected duration & reliability targets\n"
   ]
  },
  {
   "cell_type": "markdown",
   "id": "965833e0",
   "metadata": {},
   "source": [
    "\n",
    "## ⚙️ 4️⃣ Parameterization & Config-Driven Pipelines\n",
    "\n",
    "Make pipelines **reusable** and **environment-agnostic** by passing parameters (e.g., run date, S3 paths).  \n",
    "Store configs in **YAML/JSON** or use platform-native variables (Airflow Variables, ADF parameters).\n",
    "\n",
    "**Benefits**: less code duplication, easier testing, safer promotions (dev → prod).\n"
   ]
  },
  {
   "cell_type": "markdown",
   "id": "badf3ef7",
   "metadata": {},
   "source": [
    "\n",
    "## ⏱️ 5️⃣ Job Scheduling and Monitoring (Theory First)\n",
    "\n",
    "**Scheduling** defines when jobs run and in what order. **Monitoring** ensures they run correctly and fast enough.\n",
    "\n",
    "### 🕒 Scheduling Concepts\n",
    "- **Triggers**: time-based (cron: hourly/daily) or **event-based** (file arrived in S3)\n",
    "- **Dependencies**: upstream/downstream ordering\n",
    "- **Retries**: automatic recovery from transient errors\n",
    "- **Concurrency**: prevent overlapping runs (one-at-a-time)\n",
    "- **Parameterization**: pass run-time values (e.g., `{{ ds }}` in Airflow)\n",
    "\n",
    "### 📈 What to Monitor\n",
    "- Run status (success/failure)\n",
    "- Duration trends (regressions)\n",
    "- Row counts, DQ checks, nulls/dupes\n",
    "- Cost/throughput in cloud compute\n",
    "\n",
    "### 🔧 Monitoring Tooling\n",
    "- **Airflow UI & logs**\n",
    "- **Azure Monitor + ADF run history**\n",
    "- **AWS CloudWatch (Glue/Step Functions)**\n",
    "- **Custom dashboards** (Grafana/Prometheus)\n"
   ]
  },
  {
   "cell_type": "markdown",
   "id": "b2354c68",
   "metadata": {},
   "source": [
    "## 🖼️ 6️⃣ Visual: Orchestrated Pipeline Flow"
   ]
  },
  {
   "cell_type": "code",
   "execution_count": 1,
   "id": "6d94fa94",
   "metadata": {},
   "outputs": [
    {
     "data": {
      "image/png": "[encoded data removed]",
      "text/plain": [
       "<Figure size 1200x380 with 1 Axes>"
      ]
     },
     "metadata": {},
     "output_type": "display_data"
    }
   ],
   "source": [
    "import matplotlib.pyplot as plt\n",
    "from matplotlib.patches import FancyBboxPatch\n",
    "\n",
    "BG = \"#e6f0ff\"; FILL = \"#e6f0ff\"; EDGE = \"#2563eb\"; TXT = \"#111827\"\n",
    "W, H, GAP, PAD = 0.17, 0.22, 0.07, 0.010\n",
    "Y0 = 0.39\n",
    "\n",
    "labels = [\n",
    "    (\"Sources\", \"DBs / APIs / Files\"),\n",
    "    (\"Storage\", \"S3 / ADLS\"),\n",
    "    (\"ETL\", \"Glue / Databricks / ADF\"),\n",
    "    (\"Warehouse\", \"Redshift / Synapse\"),\n",
    "    (\"BI\", \"QuickSight / Power BI\")\n",
    "]\n",
    "\n",
    "fig, ax = plt.subplots(figsize=(12, 3.8))\n",
    "fig.patch.set_facecolor(BG); ax.set_facecolor(BG); ax.set_axis_off()\n",
    "ax.set_xlim(0, 1); ax.set_ylim(0, 1)\n",
    "\n",
    "total_w = len(labels)*W + (len(labels)-1)*GAP\n",
    "x_start = (1 - total_w) / 2\n",
    "xs = [x_start + i*(W+GAP) for i in range(len(labels))]\n",
    "\n",
    "def box(x, title, sub):\n",
    "    r = FancyBboxPatch((x, Y0), W, H, boxstyle=\"round,pad=0.02,rounding_size=10\",\n",
    "                       fc=FILL, ec=EDGE, lw=1.6)\n",
    "    ax.add_patch(r)\n",
    "    ax.text(x+W/2, Y0+H*0.62, title, ha=\"center\", va=\"center\", fontsize=10, color=TXT, fontweight=\"bold\")\n",
    "    ax.text(x+W/2, Y0+H*0.36, sub, ha=\"center\", va=\"center\", fontsize=9, color=TXT)\n",
    "\n",
    "for (t,s), x in zip(labels, xs):\n",
    "    box(x, t, s)\n",
    "\n",
    "y_mid = Y0 + H/2\n",
    "for i in range(len(xs)-1):\n",
    "    x1 = xs[i] + W + PAD; x2 = xs[i+1] - PAD\n",
    "    ax.annotate(\"\", xy=(x2, y_mid), xytext=(x1, y_mid),\n",
    "                arrowprops=dict(arrowstyle=\"->\", lw=2, color=\"#4b5563\",\n",
    "                                shrinkA=0, shrinkB=0, mutation_scale=12))\n",
    "\n",
    "ax.margins(x=0.05, y=0.10)\n",
    "plt.tight_layout(); plt.show()"
   ]
  },
  {
   "cell_type": "markdown",
   "id": "765ebc6e",
   "metadata": {},
   "source": [
    "\n",
    "## 🧪 7️⃣ Hands-On: Mini Orchestration Examples\n",
    "\n",
    "### 7.1 Airflow-style DAG (pseudocode)\n",
    "\n",
    "```python\n",
    "from airflow import DAG\n",
    "from airflow.operators.python import PythonOperator\n",
    "from datetime import datetime\n",
    "\n",
    "def extract(**ctx): ...\n",
    "def transform(**ctx): ...\n",
    "def load(**ctx): ...\n",
    "\n",
    "with DAG(\n",
    "    \"orders_etl\",\n",
    "    start_date=datetime(2025, 10, 22),\n",
    "    schedule_interval=\"@daily\",\n",
    "    catchup=False,\n",
    "    max_active_runs=1,\n",
    ") as dag:\n",
    "    t1 = PythonOperator(task_id=\"extract\", python_callable=extract)\n",
    "    t2 = PythonOperator(task_id=\"transform\", python_callable=transform)\n",
    "    t3 = PythonOperator(task_id=\"load\", python_callable=load)\n",
    "    t1 >> t2 >> t3\n",
    "```\n",
    "\n",
    "### 7.2 Parameterization (date partition)\n",
    "- Use `{{ ds }}` (Airflow) or ADF pipeline parameters (e.g., `runDate`) to drive input paths like `s3://.../year=YYYY/month=MM/day=DD/`.\n"
   ]
  },
  {
   "cell_type": "markdown",
   "id": "74025885",
   "metadata": {},
   "source": [
    "\n",
    "## 📡 8️⃣ Batch vs Real-Time Pipelines\n",
    "\n",
    "| Aspect | Batch | Real-Time / Streaming |\n",
    "|--|--|--|\n",
    "| Latency | Minutes to hours | Milliseconds to seconds |\n",
    "| Throughput | High volume batches | Continuous events |\n",
    "| Tools | Airflow, ADF, Glue Jobs | Kinesis / Event Hubs / Kafka |\n",
    "| Storage | Lake/Warehouse tables | Streams + lake append |\n",
    "| Use Cases | Daily sales, monthly KPIs | Clickstreams, fraud detection |\n"
   ]
  },
  {
   "cell_type": "markdown",
   "id": "a4a29878",
   "metadata": {},
   "source": [
    "\n",
    "## 📦 9️⃣ Structured vs Semi-Structured vs Unstructured Data\n",
    "\n",
    "Modern pipelines ingest more than relational tables. Knowing the **data type** guides storage and processing choices.\n",
    "\n",
    "### 🧱 Structured\n",
    "- Fixed schema (rows/columns), strict types\n",
    "- **Files**: CSV, TSV, Excel\n",
    "- **Systems**: Postgres, MySQL, SQL Server, Oracle\n",
    "- **Query**: SQL\n",
    "\n",
    "### 🧩 Semi-Structured\n",
    "- Flexible fields, nested structure\n",
    "- **Files**: JSON, XML, Parquet, Avro, YAML, Logs\n",
    "- **Systems**: MongoDB, Cosmos DB, DynamoDB, Cassandra\n",
    "- **Query**: SQL-like / JSONPath / document queries\n",
    "\n",
    "### 🗃️ Unstructured\n",
    "- No inherent schema (text/binary)\n",
    "- **Files**: PDFs, images, audio, video, emails\n",
    "- **Systems**: Object stores (S3, ADLS), HDFS, search engines (Elastic)\n",
    "- **Processing**: NLP, OCR, CV, speech-to-text\n"
   ]
  },
  {
   "cell_type": "markdown",
   "id": "6e833b1a",
   "metadata": {},
   "source": [
    "### 🖼️ Visual: Data Types & Examples"
   ]
  },
  {
   "cell_type": "code",
   "execution_count": 5,
   "id": "9cb8f5f2",
   "metadata": {},
   "outputs": [
    {
     "data": {
      "image/png": "[encoded data removed]",
      "text/plain": [
       "<Figure size 1100x380 with 1 Axes>"
      ]
     },
     "metadata": {},
     "output_type": "display_data"
    }
   ],
   "source": [
    "import matplotlib.pyplot as plt\n",
    "from matplotlib.patches import FancyBboxPatch\n",
    "\n",
    "BG   = \"#f5f9ff\"\n",
    "FILL = \"#e0ebff\"\n",
    "EDGE = \"#2563eb\"\n",
    "TXT  = \"#111827\"; TITLE = \"#0f172a\"\n",
    "\n",
    "W, H = 0.26, 0.20\n",
    "GAP  = 0.06\n",
    "Y0   = 0.38\n",
    "\n",
    "labels = [\n",
    "    (\"Structured Data\", \"Tables, CSV, Excel\", \"Relational DBs\\n(SQL Server, MySQL)\"),\n",
    "    (\"Semi-Structured Data\", \"JSON, XML, Parquet, Logs\", \"NoSQL / Document Stores\\n(MongoDB, Cosmos DB)\"),\n",
    "    (\"Unstructured Data\", \"Images, Videos, PDFs, Audio\", \"Data Lakes / Object Stores\\n(S3, Azure Blob)\"),\n",
    "]\n",
    "\n",
    "fig, ax = plt.subplots(figsize=(11, 3.8))\n",
    "fig.patch.set_facecolor(BG); ax.set_facecolor(BG); ax.set_axis_off()\n",
    "ax.set_xlim(0, 1); ax.set_ylim(0, 1)\n",
    "\n",
    "total_w = len(labels)*W + (len(labels)-1)*GAP\n",
    "start_x = (1 - total_w) / 2\n",
    "xs = [start_x + i*(W+GAP) for i in range(len(labels))]\n",
    "\n",
    "def box(x, title, examples, systems):\n",
    "    r = FancyBboxPatch((x, Y0), W, H, boxstyle=\"round,pad=0.02,rounding_size=10\",\n",
    "                       fc=FILL, ec=EDGE, lw=1.5)\n",
    "    ax.add_patch(r)\n",
    "    ax.text(x+W/2, Y0+H*0.75, title, ha=\"center\", va=\"center\", fontsize=11, fontweight=\"bold\", color=TITLE)\n",
    "    ax.text(x+W/2, Y0+H*0.45, examples, ha=\"center\", va=\"center\", fontsize=9.5, color=TXT)\n",
    "    ax.text(x+W/2, Y0+H*2.0, systems, ha=\"center\", va=\"center\", fontsize=9, color=\"#374151\")\n",
    "\n",
    "for (t, ex, sys), x in zip(labels, xs):\n",
    "    box(x, t, ex, sys)\n",
    "\n",
    "plt.tight_layout(); plt.show()"
   ]
  },
  {
   "cell_type": "markdown",
   "id": "c291810d",
   "metadata": {},
   "source": [
    "\n",
    "## ☁️ 🔀 1️⃣0️⃣ Cloud Orchestration Mapping (AWS + Azure)\n",
    "\n",
    "| Layer | Azure | AWS | Notes |\n",
    "|--|--|--|--|\n",
    "| Orchestration | Azure Data Factory | AWS Step Functions / MWAA | Schedule/monitor workflows |\n",
    "| Compute | Azure Databricks / Synapse Spark | AWS Glue / EMR | Batch transforms |\n",
    "| Storage | ADLS Gen2 | S3 | Lake zones (raw/curated) |\n",
    "| Warehouse | Synapse | Redshift | BI-serving SQL |\n",
    "| Monitoring | Azure Monitor | CloudWatch | Metrics/logs/alerts |\n"
   ]
  },
  {
   "cell_type": "markdown",
   "id": "85a77ba2",
   "metadata": {},
   "source": [
    "\n",
    "## 💡 1️⃣1️⃣ Practice / Capstone Tasks\n",
    "\n",
    "1) **Build a DAG** (3 tasks): extract → transform → load. Add retries and a single active run at a time.  \n",
    "2) **Parameterize** by date: load only the partition for `{{ ds }}` (Airflow) or ADF `runDate`.  \n",
    "3) **Add monitoring**: capture run times and row counts; emit an alert on failure.  \n",
    "4) **Extend**: add a branch that loads from a **NoSQL** source (e.g., JSON/Document DB) and merges into your warehouse.\n"
   ]
  }
 ],
 "metadata": {
  "kernelspec": {
   "display_name": "Python 3",
   "language": "python",
   "name": "python3"
  },
  "language_info": {
   "codemirror_mode": {
    "name": "ipython",
    "version": 3
   },
   "file_extension": ".py",
   "mimetype": "text/x-python",
   "name": "python",
   "nbconvert_exporter": "python",
   "pygments_lexer": "ipython3",
   "version": "3.12.4"
  }
 },
 "nbformat": 4,
 "nbformat_minor": 5
}
